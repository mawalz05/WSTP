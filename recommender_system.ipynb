{
 "cells": [
  {
   "cell_type": "code",
   "execution_count": 1,
   "id": "lonely-compression",
   "metadata": {},
   "outputs": [],
   "source": [
    "import pandas as pd\n",
    "survey = pd.read_csv('responses.csv', encoding = \"ISO-8859-1\")"
   ]
  },
  {
   "cell_type": "code",
   "execution_count": 2,
   "id": "silver-doctrine",
   "metadata": {},
   "outputs": [],
   "source": [
    "survey = survey.drop(survey.columns[[0, 17, 18, 19, 20]], axis = 1)"
   ]
  },
  {
   "cell_type": "code",
   "execution_count": 3,
   "id": "cultural-chess",
   "metadata": {},
   "outputs": [],
   "source": [
    "dict = {'Hello mountain, I will climb you now.': 'Q1_1',\n",
    "       'Sweat, sports, all that jazz.': 'Q1_2',\n",
    "       'Dinner and drinks':'Q1_3',\n",
    "       'Take me to the beach!':'Q1_4',\n",
    "       'Want shoes, get shoes': 'Q1_5',\n",
    "       'Would you like tee-shirts? We have many.': 'Q1_6',\n",
    "       \"Perfect, let's talk budget. What feels right to spend on a quality item?\": 'Q2',\n",
    "       '*Chemical Use*: Reducing amount of harmful chemicals used in production': 'Q3_1',\n",
    "       '*Water Conservation*: Reducing amount of water used in production': 'Q3_2',\n",
    "       '*Carbon Emissions/Energy Use*: Reducing greenhouse gas emissions and energy use from production': 'Q3_3',\n",
    "       '*Peoples well-being*: Fair treatment of employees and community impacted by production': 'Q3_4',\n",
    "       '*Animal welfare*: Avoiding using animal-derived materials. Dont use the textile that needs to kill animals or source from wild animals.': 'Q3_5',\n",
    "       '*Product quality, reuse & recycle*: Making products built to last and supporting reuse/recycling of materials and products': 'Q3_6',\n",
    "       '*Knowing supply chain*: Knowing how a product is made from start to finish': 'Q3_7',\n",
    "       '*Transparency*: Publicly accessible and truthful information about company policies and practices': 'Q3_8',\n",
    "       '2 more left... When you look in your closet what style of clothes do you like to see?': 'Q4'}\n",
    "\n",
    "survey = survey.rename(columns = dict)"
   ]
  },
  {
   "cell_type": "code",
   "execution_count": 4,
   "id": "hazardous-salem",
   "metadata": {},
   "outputs": [],
   "source": [
    "import numpy as np\n",
    "survey['Q1_1'] = np.where(survey['Q1_1'].isna() == True, 0, 1)\n",
    "survey['Q1_2'] = np.where(survey['Q1_2'].isna() == True, 0, 1)\n",
    "survey['Q1_3'] = np.where(survey['Q1_3'].isna() == True, 0, 1)\n",
    "survey['Q1_4'] = np.where(survey['Q1_4'].isna() == True, 0, 1)\n",
    "survey['Q1_5'] = np.where(survey['Q1_5'].isna() == True, 0, 1)\n",
    "survey['Q1_6'] = np.where(survey['Q1_6'].isna() == True, 0, 1)\n",
    "\n",
    "survey['Q3_1'] = np.where(survey['Q3_1'].isna() == True, 0, 1)\n",
    "survey['Q3_2'] = np.where(survey['Q3_2'].isna() == True, 0, 1)\n",
    "survey['Q3_3'] = np.where(survey['Q3_3'].isna() == True, 0, 1)\n",
    "survey['Q3_4'] = np.where(survey['Q3_4'].isna() == True, 0, 1)\n",
    "survey['Q3_5'] = np.where(survey['Q3_5'].isna() == True, 0, 1)\n",
    "survey['Q3_6'] = np.where(survey['Q3_6'].isna() == True, 0, 1)\n",
    "survey['Q3_7'] = np.where(survey['Q3_7'].isna() == True, 0, 1)\n",
    "survey['Q3_8'] = np.where(survey['Q3_8'].isna() == True, 0, 1)\n",
    "\n",
    "survey['Q2'] = np.where(survey['Q2'] == 'Less than $50', 0, survey['Q2'])\n",
    "survey['Q2'] = np.where(survey['Q2'] == '$50-$100', 1, survey['Q2'])\n",
    "survey['Q2'] = np.where(survey['Q2'] == '$100-$150', 2, survey['Q2'])\n",
    "survey['Q2'] = np.where(survey['Q2'] == 'Depends on the item', 99, survey['Q2'])\n",
    "survey['Q2'] = np.where(survey['Q2'] == \"Can't put a price on quality\", 3, survey['Q2'])\n",
    "\n",
    "survey['Q4'] = np.where(survey['Q4'] == 'Generally for the gentlemen', 0, survey['Q4'])\n",
    "survey['Q4'] = np.where(survey['Q4'] == 'More often for the ladies', 1, survey['Q4'])\n",
    "survey['Q4'] = np.where(survey['Q4'] == 'I love it all', 99, survey['Q4'])"
   ]
  },
  {
   "cell_type": "code",
   "execution_count": 5,
   "id": "gentle-aluminum",
   "metadata": {},
   "outputs": [],
   "source": [
    "df = pd.read_csv('Comp.csv', encoding = \"ISO-8859-1\")"
   ]
  },
  {
   "cell_type": "code",
   "execution_count": 6,
   "id": "cardiovascular-stupid",
   "metadata": {},
   "outputs": [],
   "source": [
    "if survey.loc[0]['Q2'] == 0:\n",
    "    df2 = df[(df['Q2'] == 0) | (df['Q2'] == 99)]\n",
    "elif survey.loc[0]['Q2'] == 1:\n",
    "    df2 = df[(df['Q2'] == 1) | (df['Q2'] == 99)]\n",
    "elif survey.loc[0]['Q2'] == 2:\n",
    "    df2 = df[(df['Q2'] == 2) | (df['Q2'] == 99)]\n",
    "elif survey.loc[0]['Q2'] == 3:\n",
    "    df2 = df[(df['Q2'] == 3) | (df['Q2'] == 99)]\n",
    "else:\n",
    "    df2 = df\n",
    "\n",
    "if survey.loc[0]['Q4'] == 0:\n",
    "    df2 = df2[(df2['Q4'] == 0) | (df2['Q4'] == 99)] \n",
    "elif survey.loc[0]['Q4'] == 1:\n",
    "    df2 = df2[(df2['Q4'] == 1) | (df2['Q4'] == 99)]\n",
    "else:\n",
    "    df2 = df2"
   ]
  },
  {
   "cell_type": "code",
   "execution_count": 7,
   "id": "seeing-dream",
   "metadata": {},
   "outputs": [],
   "source": [
    "col = [col for col in df2 if col.startswith('Q')]\n",
    "training = df2[col]\n",
    "names = df2[['Brand', 'Info', 'Item', 'Price','Link','Contact']]\n",
    "training = training.drop(['Q2','Q4'], axis = 1)\n",
    "survey = survey.drop(['Q2','Q4'], axis = 1)"
   ]
  },
  {
   "cell_type": "code",
   "execution_count": 8,
   "id": "musical-sword",
   "metadata": {},
   "outputs": [],
   "source": [
    "names.reset_index(drop=True, inplace=True)\n",
    "training.reset_index(drop=True, inplace=True)"
   ]
  },
  {
   "cell_type": "code",
   "execution_count": 9,
   "id": "religious-economy",
   "metadata": {},
   "outputs": [
    {
     "name": "stdout",
     "output_type": "stream",
     "text": [
      "(array([[2.23606798, 2.23606798, 2.44948974]]), array([[ 2, 22,  1]], dtype=int64))\n"
     ]
    }
   ],
   "source": [
    "from sklearn.neighbors import NearestNeighbors\n",
    "neigh = NearestNeighbors(n_neighbors = 3)\n",
    "neigh.fit(training)\n",
    "print(neigh.kneighbors(survey))"
   ]
  },
  {
   "cell_type": "code",
   "execution_count": 10,
   "id": "alpine-legend",
   "metadata": {},
   "outputs": [],
   "source": [
    "three_closest = neigh.kneighbors(survey)\n",
    "three_closest = three_closest[1]\n",
    "\n",
    "for i in three_closest:\n",
    "    output = names.iloc[i]"
   ]
  },
  {
   "cell_type": "code",
   "execution_count": 11,
   "id": "focused-blond",
   "metadata": {},
   "outputs": [
    {
     "data": {
      "text/html": [
       "<div>\n",
       "<style scoped>\n",
       "    .dataframe tbody tr th:only-of-type {\n",
       "        vertical-align: middle;\n",
       "    }\n",
       "\n",
       "    .dataframe tbody tr th {\n",
       "        vertical-align: top;\n",
       "    }\n",
       "\n",
       "    .dataframe thead th {\n",
       "        text-align: right;\n",
       "    }\n",
       "</style>\n",
       "<table border=\"1\" class=\"dataframe\">\n",
       "  <thead>\n",
       "    <tr style=\"text-align: right;\">\n",
       "      <th></th>\n",
       "      <th>Brand</th>\n",
       "      <th>Info</th>\n",
       "      <th>Item</th>\n",
       "      <th>Price</th>\n",
       "      <th>Link</th>\n",
       "      <th>Contact</th>\n",
       "    </tr>\n",
       "  </thead>\n",
       "  <tbody>\n",
       "    <tr>\n",
       "      <th>2</th>\n",
       "      <td>Ministry of Supply</td>\n",
       "      <td>On demand production using zero waste techno...</td>\n",
       "      <td>Juno Blouse</td>\n",
       "      <td>$125.00</td>\n",
       "      <td>https://www.ministryofsupply.com/products/wome...</td>\n",
       "      <td>q@ministryofsupply.com</td>\n",
       "    </tr>\n",
       "    <tr>\n",
       "      <th>22</th>\n",
       "      <td>Ministry of Supply</td>\n",
       "      <td>On demand production using zero waste techno...</td>\n",
       "      <td>Apolo Brushed Shirt</td>\n",
       "      <td>$125.00</td>\n",
       "      <td>https://www.ministryofsupply.com/products/mens...</td>\n",
       "      <td>q@ministryofsupply.com</td>\n",
       "    </tr>\n",
       "    <tr>\n",
       "      <th>1</th>\n",
       "      <td>Mate the Label</td>\n",
       "      <td>Eliminated all plastic from consumer packagi...</td>\n",
       "      <td>Organic Cotton Long Sleeve Crop</td>\n",
       "      <td>$68.00</td>\n",
       "      <td>https://matethelabel.com/collections/organic-j...</td>\n",
       "      <td>affiliates@matethelabel.com</td>\n",
       "    </tr>\n",
       "  </tbody>\n",
       "</table>\n",
       "</div>"
      ],
      "text/plain": [
       "                 Brand                                               Info  \\\n",
       "2   Ministry of Supply    On demand production using zero waste techno...   \n",
       "22  Ministry of Supply    On demand production using zero waste techno...   \n",
       "1       Mate the Label    Eliminated all plastic from consumer packagi...   \n",
       "\n",
       "                               Item     Price  \\\n",
       "2                       Juno Blouse  $125.00    \n",
       "22              Apolo Brushed Shirt  $125.00    \n",
       "1   Organic Cotton Long Sleeve Crop   $68.00    \n",
       "\n",
       "                                                 Link  \\\n",
       "2   https://www.ministryofsupply.com/products/wome...   \n",
       "22  https://www.ministryofsupply.com/products/mens...   \n",
       "1   https://matethelabel.com/collections/organic-j...   \n",
       "\n",
       "                        Contact  \n",
       "2        q@ministryofsupply.com  \n",
       "22       q@ministryofsupply.com  \n",
       "1   affiliates@matethelabel.com  "
      ]
     },
     "execution_count": 11,
     "metadata": {},
     "output_type": "execute_result"
    }
   ],
   "source": [
    "output"
   ]
  }
 ],
 "metadata": {
  "kernelspec": {
   "display_name": "Python 3",
   "language": "python",
   "name": "python3"
  },
  "language_info": {
   "codemirror_mode": {
    "name": "ipython",
    "version": 3
   },
   "file_extension": ".py",
   "mimetype": "text/x-python",
   "name": "python",
   "nbconvert_exporter": "python",
   "pygments_lexer": "ipython3",
   "version": "3.6.12"
  }
 },
 "nbformat": 4,
 "nbformat_minor": 5
}
